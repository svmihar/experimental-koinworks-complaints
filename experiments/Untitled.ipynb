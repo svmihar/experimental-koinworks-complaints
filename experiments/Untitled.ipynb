{
 "cells": [
  {
   "cell_type": "code",
   "execution_count": 1,
   "metadata": {},
   "outputs": [],
   "source": [
    "from joblib import load\n",
    "\n",
    "model = load('./top2vec.model')"
   ]
  },
  {
   "cell_type": "code",
   "execution_count": 2,
   "metadata": {},
   "outputs": [
    {
     "output_type": "execute_result",
     "data": {
      "text/plain": "17"
     },
     "metadata": {},
     "execution_count": 2
    }
   ],
   "source": [
    "len(model.topic_words)"
   ]
  },
  {
   "cell_type": "code",
   "execution_count": 7,
   "metadata": {},
   "outputs": [],
   "source": [
    "tweet_vectors = model.model.docvecs"
   ]
  },
  {
   "cell_type": "code",
   "execution_count": 14,
   "metadata": {},
   "outputs": [
    {
     "output_type": "execute_result",
     "data": {
      "text/plain": "numpy.ndarray"
     },
     "metadata": {},
     "execution_count": 14
    }
   ],
   "source": [
    "type(tweet_vectors.vectors_docs)"
   ]
  },
  {
   "cell_type": "code",
   "execution_count": null,
   "metadata": {},
   "outputs": [],
   "source": []
  },
  {
   "cell_type": "code",
   "execution_count": 9,
   "metadata": {},
   "outputs": [],
   "source": [
    "from sklearn.decomposition import PCA\n",
    "\n",
    "pca = PCA(n_components=2)\n",
    "vectors_pca = pca.fit_transform(model.topic_vectors)"
   ]
  },
  {
   "cell_type": "code",
   "execution_count": 10,
   "metadata": {},
   "outputs": [
    {
     "data": {
      "text/plain": [
       "(17, 2)"
      ]
     },
     "execution_count": 10,
     "metadata": {},
     "output_type": "execute_result"
    }
   ],
   "source": [
    "vectors_pca.shape"
   ]
  },
  {
   "cell_type": "code",
   "execution_count": 11,
   "metadata": {},
   "outputs": [
    {
     "name": "stdout",
     "output_type": "stream",
     "text": [
      "[-0.16898085 -0.21773529]\n",
      "[-0.24462904  0.4087597 ]\n",
      "[ 1.3635848  -0.35285586]\n",
      "[-0.20583259 -0.08380116]\n",
      "[-0.40747535 -0.35671574]\n",
      "[-0.2677092  -0.44914538]\n",
      "[-0.22654344 -0.35552883]\n",
      "[-0.12844372 -0.11248939]\n",
      "[-0.31005067  0.1593845 ]\n",
      "[-0.10013947  0.52057153]\n",
      "[-0.28329474  0.0153752 ]\n",
      "[-0.13779964  0.08992213]\n",
      "[0.23579264 0.51604384]\n",
      "[0.48756984 0.3533414 ]\n",
      "[ 0.05617242 -0.05709256]\n",
      "[ 0.2766603  -0.00543373]\n",
      "[ 0.06111884 -0.07260074]\n"
     ]
    }
   ],
   "source": [
    "for v in vectors_pca: \n",
    "    print(v)"
   ]
  },
  {
   "cell_type": "code",
   "execution_count": 12,
   "metadata": {},
   "outputs": [],
   "source": [
    "import plotly.express as px\n"
   ]
  },
  {
   "cell_type": "code",
   "execution_count": 15,
   "metadata": {},
   "outputs": [
    {
     "data": {
      "text/plain": [
       "(17, 50)"
      ]
     },
     "execution_count": 15,
     "metadata": {},
     "output_type": "execute_result"
    }
   ],
   "source": [
    "model.topic_words.shape"
   ]
  },
  {
   "cell_type": "code",
   "execution_count": 28,
   "metadata": {},
   "outputs": [],
   "source": [
    "cols = []\n",
    "for v, word in zip(vectors_pca, model.topic_words): \n",
    "    cols.append((*v, ' '.join(word[:10])))"
   ]
  },
  {
   "cell_type": "code",
   "execution_count": 29,
   "metadata": {},
   "outputs": [
    {
     "data": {
      "text/plain": [
       "[(-0.16898085,\n",
       "  -0.21773529,\n",
       "  'kita yg gak aplikasi mau email ga buat masih sih'),\n",
       " (-0.24462904,\n",
       "  0.4087597,\n",
       "  'layanan ukm keuangan news co digital finansial pengguna menjadi platform'),\n",
       " (1.3635848, -0.35285586, 'you code use first me or get youtu my let'),\n",
       " (-0.20583259,\n",
       "  -0.08380116,\n",
       "  'aku dana sama belum ini aja kalo sudah karena sekarang'),\n",
       " (-0.40747535, -0.35671574, 'min ya mau kok email sampai dm coba yg masih'),\n",
       " (-0.2677092, -0.44914538, 'coba nih kita yg sampai kan masih apa gak ga'),\n",
       " (-0.22654344, -0.35552883, 'sampai nya saya kenapa coba ada mau tapi ya kok'),\n",
       " (-0.12844372,\n",
       "  -0.11248939,\n",
       "  'kok hari mau aplikasi kenapa email sampai nya lama sama'),\n",
       " (-0.31005067,\n",
       "  0.1593845,\n",
       "  'pinjaman news dana pendanaan co id hingga tahun ukm rp'),\n",
       " (-0.10013947,\n",
       "  0.52057153,\n",
       "  'dlvr http it online covid layanan keuangan fintech news digital'),\n",
       " (-0.28329474, 0.015375196, 'cek dm min kok ya tidak saya dari kenapa mohon'),\n",
       " (-0.13779964,\n",
       "  0.08992213,\n",
       "  'twitter com dlvr ukm pic menjadi covid akan finansial kok'),\n",
       " (0.23579264,\n",
       "  0.51604384,\n",
       "  'covid www from of fintech digital the it online http'),\n",
       " (0.48756984,\n",
       "  0.3533414,\n",
       "  'of the from www it covid fintech funding indonesia in'),\n",
       " (0.056172423, -0.057092562, 'dm kok cek of min dlvr covid www twitter it'),\n",
       " (0.2766603,\n",
       "  -0.005433725,\n",
       "  'semua hingga rp bisnis pinjaman oleh ojk dan koinworks cek'),\n",
       " (0.061118837,\n",
       "  -0.072600745,\n",
       "  'hingga pendanaan pinjaman dana kenapa investasi di tahun aplikasi ada')]"
      ]
     },
     "execution_count": 29,
     "metadata": {},
     "output_type": "execute_result"
    }
   ],
   "source": [
    "cols"
   ]
  },
  {
   "cell_type": "code",
   "execution_count": 30,
   "metadata": {},
   "outputs": [],
   "source": [
    "import pandas as pd\n",
    "df_pca = pd.DataFrame(cols, columns=['x', 'y', 'words'])"
   ]
  },
  {
   "cell_type": "code",
   "execution_count": 31,
   "metadata": {},
   "outputs": [],
   "source": [
    "import plotly.express as px"
   ]
  },
  {
   "cell_type": "code",
   "execution_count": 32,
   "metadata": {},
   "outputs": [
    {
     "data": {
      "application/vnd.plotly.v1+json": {
       "config": {
        "plotlyServerURL": "https://plot.ly"
       },
       "data": [
        {
         "customdata": [
          [
           "kita yg gak aplikasi mau email ga buat masih sih"
          ],
          [
           "layanan ukm keuangan news co digital finansial pengguna menjadi platform"
          ],
          [
           "you code use first me or get youtu my let"
          ],
          [
           "aku dana sama belum ini aja kalo sudah karena sekarang"
          ],
          [
           "min ya mau kok email sampai dm coba yg masih"
          ],
          [
           "coba nih kita yg sampai kan masih apa gak ga"
          ],
          [
           "sampai nya saya kenapa coba ada mau tapi ya kok"
          ],
          [
           "kok hari mau aplikasi kenapa email sampai nya lama sama"
          ],
          [
           "pinjaman news dana pendanaan co id hingga tahun ukm rp"
          ],
          [
           "dlvr http it online covid layanan keuangan fintech news digital"
          ],
          [
           "cek dm min kok ya tidak saya dari kenapa mohon"
          ],
          [
           "twitter com dlvr ukm pic menjadi covid akan finansial kok"
          ],
          [
           "covid www from of fintech digital the it online http"
          ],
          [
           "of the from www it covid fintech funding indonesia in"
          ],
          [
           "dm kok cek of min dlvr covid www twitter it"
          ],
          [
           "semua hingga rp bisnis pinjaman oleh ojk dan koinworks cek"
          ],
          [
           "hingga pendanaan pinjaman dana kenapa investasi di tahun aplikasi ada"
          ]
         ],
         "hovertemplate": "x=%{x}<br>y=%{y}<br>words=%{customdata[0]}<extra></extra>",
         "legendgroup": "",
         "marker": {
          "color": "#636efa",
          "symbol": "circle"
         },
         "mode": "markers",
         "name": "",
         "orientation": "v",
         "showlegend": false,
         "type": "scatter",
         "x": [
          -0.16898085176944733,
          -0.24462904036045074,
          1.3635847568511963,
          -0.2058325856924057,
          -0.4074753522872925,
          -0.2677091956138611,
          -0.22654344141483307,
          -0.12844371795654297,
          -0.3100506663322449,
          -0.10013946890830994,
          -0.2832947373390198,
          -0.13779963552951813,
          0.2357926368713379,
          0.4875698387622833,
          0.05617242306470871,
          0.276660293340683,
          0.06111883744597435
         ],
         "xaxis": "x",
         "y": [
          -0.21773529052734375,
          0.4087597131729126,
          -0.3528558611869812,
          -0.08380115777254105,
          -0.35671573877334595,
          -0.4491453766822815,
          -0.3555288314819336,
          -0.11248938739299774,
          0.15938450396060944,
          0.5205715298652649,
          0.015375196002423763,
          0.08992213010787964,
          0.5160438418388367,
          0.35334140062332153,
          -0.057092562317848206,
          -0.005433725193142891,
          -0.07260074466466904
         ],
         "yaxis": "y"
        }
       ],
       "layout": {
        "legend": {
         "tracegroupgap": 0
        },
        "margin": {
         "t": 60
        },
        "template": {
         "data": {
          "bar": [
           {
            "error_x": {
             "color": "#2a3f5f"
            },
            "error_y": {
             "color": "#2a3f5f"
            },
            "marker": {
             "line": {
              "color": "#E5ECF6",
              "width": 0.5
             }
            },
            "type": "bar"
           }
          ],
          "barpolar": [
           {
            "marker": {
             "line": {
              "color": "#E5ECF6",
              "width": 0.5
             }
            },
            "type": "barpolar"
           }
          ],
          "carpet": [
           {
            "aaxis": {
             "endlinecolor": "#2a3f5f",
             "gridcolor": "white",
             "linecolor": "white",
             "minorgridcolor": "white",
             "startlinecolor": "#2a3f5f"
            },
            "baxis": {
             "endlinecolor": "#2a3f5f",
             "gridcolor": "white",
             "linecolor": "white",
             "minorgridcolor": "white",
             "startlinecolor": "#2a3f5f"
            },
            "type": "carpet"
           }
          ],
          "choropleth": [
           {
            "colorbar": {
             "outlinewidth": 0,
             "ticks": ""
            },
            "type": "choropleth"
           }
          ],
          "contour": [
           {
            "colorbar": {
             "outlinewidth": 0,
             "ticks": ""
            },
            "colorscale": [
             [
              0,
              "#0d0887"
             ],
             [
              0.1111111111111111,
              "#46039f"
             ],
             [
              0.2222222222222222,
              "#7201a8"
             ],
             [
              0.3333333333333333,
              "#9c179e"
             ],
             [
              0.4444444444444444,
              "#bd3786"
             ],
             [
              0.5555555555555556,
              "#d8576b"
             ],
             [
              0.6666666666666666,
              "#ed7953"
             ],
             [
              0.7777777777777778,
              "#fb9f3a"
             ],
             [
              0.8888888888888888,
              "#fdca26"
             ],
             [
              1,
              "#f0f921"
             ]
            ],
            "type": "contour"
           }
          ],
          "contourcarpet": [
           {
            "colorbar": {
             "outlinewidth": 0,
             "ticks": ""
            },
            "type": "contourcarpet"
           }
          ],
          "heatmap": [
           {
            "colorbar": {
             "outlinewidth": 0,
             "ticks": ""
            },
            "colorscale": [
             [
              0,
              "#0d0887"
             ],
             [
              0.1111111111111111,
              "#46039f"
             ],
             [
              0.2222222222222222,
              "#7201a8"
             ],
             [
              0.3333333333333333,
              "#9c179e"
             ],
             [
              0.4444444444444444,
              "#bd3786"
             ],
             [
              0.5555555555555556,
              "#d8576b"
             ],
             [
              0.6666666666666666,
              "#ed7953"
             ],
             [
              0.7777777777777778,
              "#fb9f3a"
             ],
             [
              0.8888888888888888,
              "#fdca26"
             ],
             [
              1,
              "#f0f921"
             ]
            ],
            "type": "heatmap"
           }
          ],
          "heatmapgl": [
           {
            "colorbar": {
             "outlinewidth": 0,
             "ticks": ""
            },
            "colorscale": [
             [
              0,
              "#0d0887"
             ],
             [
              0.1111111111111111,
              "#46039f"
             ],
             [
              0.2222222222222222,
              "#7201a8"
             ],
             [
              0.3333333333333333,
              "#9c179e"
             ],
             [
              0.4444444444444444,
              "#bd3786"
             ],
             [
              0.5555555555555556,
              "#d8576b"
             ],
             [
              0.6666666666666666,
              "#ed7953"
             ],
             [
              0.7777777777777778,
              "#fb9f3a"
             ],
             [
              0.8888888888888888,
              "#fdca26"
             ],
             [
              1,
              "#f0f921"
             ]
            ],
            "type": "heatmapgl"
           }
          ],
          "histogram": [
           {
            "marker": {
             "colorbar": {
              "outlinewidth": 0,
              "ticks": ""
             }
            },
            "type": "histogram"
           }
          ],
          "histogram2d": [
           {
            "colorbar": {
             "outlinewidth": 0,
             "ticks": ""
            },
            "colorscale": [
             [
              0,
              "#0d0887"
             ],
             [
              0.1111111111111111,
              "#46039f"
             ],
             [
              0.2222222222222222,
              "#7201a8"
             ],
             [
              0.3333333333333333,
              "#9c179e"
             ],
             [
              0.4444444444444444,
              "#bd3786"
             ],
             [
              0.5555555555555556,
              "#d8576b"
             ],
             [
              0.6666666666666666,
              "#ed7953"
             ],
             [
              0.7777777777777778,
              "#fb9f3a"
             ],
             [
              0.8888888888888888,
              "#fdca26"
             ],
             [
              1,
              "#f0f921"
             ]
            ],
            "type": "histogram2d"
           }
          ],
          "histogram2dcontour": [
           {
            "colorbar": {
             "outlinewidth": 0,
             "ticks": ""
            },
            "colorscale": [
             [
              0,
              "#0d0887"
             ],
             [
              0.1111111111111111,
              "#46039f"
             ],
             [
              0.2222222222222222,
              "#7201a8"
             ],
             [
              0.3333333333333333,
              "#9c179e"
             ],
             [
              0.4444444444444444,
              "#bd3786"
             ],
             [
              0.5555555555555556,
              "#d8576b"
             ],
             [
              0.6666666666666666,
              "#ed7953"
             ],
             [
              0.7777777777777778,
              "#fb9f3a"
             ],
             [
              0.8888888888888888,
              "#fdca26"
             ],
             [
              1,
              "#f0f921"
             ]
            ],
            "type": "histogram2dcontour"
           }
          ],
          "mesh3d": [
           {
            "colorbar": {
             "outlinewidth": 0,
             "ticks": ""
            },
            "type": "mesh3d"
           }
          ],
          "parcoords": [
           {
            "line": {
             "colorbar": {
              "outlinewidth": 0,
              "ticks": ""
             }
            },
            "type": "parcoords"
           }
          ],
          "pie": [
           {
            "automargin": true,
            "type": "pie"
           }
          ],
          "scatter": [
           {
            "marker": {
             "colorbar": {
              "outlinewidth": 0,
              "ticks": ""
             }
            },
            "type": "scatter"
           }
          ],
          "scatter3d": [
           {
            "line": {
             "colorbar": {
              "outlinewidth": 0,
              "ticks": ""
             }
            },
            "marker": {
             "colorbar": {
              "outlinewidth": 0,
              "ticks": ""
             }
            },
            "type": "scatter3d"
           }
          ],
          "scattercarpet": [
           {
            "marker": {
             "colorbar": {
              "outlinewidth": 0,
              "ticks": ""
             }
            },
            "type": "scattercarpet"
           }
          ],
          "scattergeo": [
           {
            "marker": {
             "colorbar": {
              "outlinewidth": 0,
              "ticks": ""
             }
            },
            "type": "scattergeo"
           }
          ],
          "scattergl": [
           {
            "marker": {
             "colorbar": {
              "outlinewidth": 0,
              "ticks": ""
             }
            },
            "type": "scattergl"
           }
          ],
          "scattermapbox": [
           {
            "marker": {
             "colorbar": {
              "outlinewidth": 0,
              "ticks": ""
             }
            },
            "type": "scattermapbox"
           }
          ],
          "scatterpolar": [
           {
            "marker": {
             "colorbar": {
              "outlinewidth": 0,
              "ticks": ""
             }
            },
            "type": "scatterpolar"
           }
          ],
          "scatterpolargl": [
           {
            "marker": {
             "colorbar": {
              "outlinewidth": 0,
              "ticks": ""
             }
            },
            "type": "scatterpolargl"
           }
          ],
          "scatterternary": [
           {
            "marker": {
             "colorbar": {
              "outlinewidth": 0,
              "ticks": ""
             }
            },
            "type": "scatterternary"
           }
          ],
          "surface": [
           {
            "colorbar": {
             "outlinewidth": 0,
             "ticks": ""
            },
            "colorscale": [
             [
              0,
              "#0d0887"
             ],
             [
              0.1111111111111111,
              "#46039f"
             ],
             [
              0.2222222222222222,
              "#7201a8"
             ],
             [
              0.3333333333333333,
              "#9c179e"
             ],
             [
              0.4444444444444444,
              "#bd3786"
             ],
             [
              0.5555555555555556,
              "#d8576b"
             ],
             [
              0.6666666666666666,
              "#ed7953"
             ],
             [
              0.7777777777777778,
              "#fb9f3a"
             ],
             [
              0.8888888888888888,
              "#fdca26"
             ],
             [
              1,
              "#f0f921"
             ]
            ],
            "type": "surface"
           }
          ],
          "table": [
           {
            "cells": {
             "fill": {
              "color": "#EBF0F8"
             },
             "line": {
              "color": "white"
             }
            },
            "header": {
             "fill": {
              "color": "#C8D4E3"
             },
             "line": {
              "color": "white"
             }
            },
            "type": "table"
           }
          ]
         },
         "layout": {
          "annotationdefaults": {
           "arrowcolor": "#2a3f5f",
           "arrowhead": 0,
           "arrowwidth": 1
          },
          "coloraxis": {
           "colorbar": {
            "outlinewidth": 0,
            "ticks": ""
           }
          },
          "colorscale": {
           "diverging": [
            [
             0,
             "#8e0152"
            ],
            [
             0.1,
             "#c51b7d"
            ],
            [
             0.2,
             "#de77ae"
            ],
            [
             0.3,
             "#f1b6da"
            ],
            [
             0.4,
             "#fde0ef"
            ],
            [
             0.5,
             "#f7f7f7"
            ],
            [
             0.6,
             "#e6f5d0"
            ],
            [
             0.7,
             "#b8e186"
            ],
            [
             0.8,
             "#7fbc41"
            ],
            [
             0.9,
             "#4d9221"
            ],
            [
             1,
             "#276419"
            ]
           ],
           "sequential": [
            [
             0,
             "#0d0887"
            ],
            [
             0.1111111111111111,
             "#46039f"
            ],
            [
             0.2222222222222222,
             "#7201a8"
            ],
            [
             0.3333333333333333,
             "#9c179e"
            ],
            [
             0.4444444444444444,
             "#bd3786"
            ],
            [
             0.5555555555555556,
             "#d8576b"
            ],
            [
             0.6666666666666666,
             "#ed7953"
            ],
            [
             0.7777777777777778,
             "#fb9f3a"
            ],
            [
             0.8888888888888888,
             "#fdca26"
            ],
            [
             1,
             "#f0f921"
            ]
           ],
           "sequentialminus": [
            [
             0,
             "#0d0887"
            ],
            [
             0.1111111111111111,
             "#46039f"
            ],
            [
             0.2222222222222222,
             "#7201a8"
            ],
            [
             0.3333333333333333,
             "#9c179e"
            ],
            [
             0.4444444444444444,
             "#bd3786"
            ],
            [
             0.5555555555555556,
             "#d8576b"
            ],
            [
             0.6666666666666666,
             "#ed7953"
            ],
            [
             0.7777777777777778,
             "#fb9f3a"
            ],
            [
             0.8888888888888888,
             "#fdca26"
            ],
            [
             1,
             "#f0f921"
            ]
           ]
          },
          "colorway": [
           "#636efa",
           "#EF553B",
           "#00cc96",
           "#ab63fa",
           "#FFA15A",
           "#19d3f3",
           "#FF6692",
           "#B6E880",
           "#FF97FF",
           "#FECB52"
          ],
          "font": {
           "color": "#2a3f5f"
          },
          "geo": {
           "bgcolor": "white",
           "lakecolor": "white",
           "landcolor": "#E5ECF6",
           "showlakes": true,
           "showland": true,
           "subunitcolor": "white"
          },
          "hoverlabel": {
           "align": "left"
          },
          "hovermode": "closest",
          "mapbox": {
           "style": "light"
          },
          "paper_bgcolor": "white",
          "plot_bgcolor": "#E5ECF6",
          "polar": {
           "angularaxis": {
            "gridcolor": "white",
            "linecolor": "white",
            "ticks": ""
           },
           "bgcolor": "#E5ECF6",
           "radialaxis": {
            "gridcolor": "white",
            "linecolor": "white",
            "ticks": ""
           }
          },
          "scene": {
           "xaxis": {
            "backgroundcolor": "#E5ECF6",
            "gridcolor": "white",
            "gridwidth": 2,
            "linecolor": "white",
            "showbackground": true,
            "ticks": "",
            "zerolinecolor": "white"
           },
           "yaxis": {
            "backgroundcolor": "#E5ECF6",
            "gridcolor": "white",
            "gridwidth": 2,
            "linecolor": "white",
            "showbackground": true,
            "ticks": "",
            "zerolinecolor": "white"
           },
           "zaxis": {
            "backgroundcolor": "#E5ECF6",
            "gridcolor": "white",
            "gridwidth": 2,
            "linecolor": "white",
            "showbackground": true,
            "ticks": "",
            "zerolinecolor": "white"
           }
          },
          "shapedefaults": {
           "line": {
            "color": "#2a3f5f"
           }
          },
          "ternary": {
           "aaxis": {
            "gridcolor": "white",
            "linecolor": "white",
            "ticks": ""
           },
           "baxis": {
            "gridcolor": "white",
            "linecolor": "white",
            "ticks": ""
           },
           "bgcolor": "#E5ECF6",
           "caxis": {
            "gridcolor": "white",
            "linecolor": "white",
            "ticks": ""
           }
          },
          "title": {
           "x": 0.05
          },
          "xaxis": {
           "automargin": true,
           "gridcolor": "white",
           "linecolor": "white",
           "ticks": "",
           "title": {
            "standoff": 15
           },
           "zerolinecolor": "white",
           "zerolinewidth": 2
          },
          "yaxis": {
           "automargin": true,
           "gridcolor": "white",
           "linecolor": "white",
           "ticks": "",
           "title": {
            "standoff": 15
           },
           "zerolinecolor": "white",
           "zerolinewidth": 2
          }
         }
        },
        "xaxis": {
         "anchor": "y",
         "domain": [
          0,
          1
         ],
         "title": {
          "text": "x"
         }
        },
        "yaxis": {
         "anchor": "x",
         "domain": [
          0,
          1
         ],
         "title": {
          "text": "y"
         }
        }
       }
      },
      "text/html": [
       "<div>\n",
       "        \n",
       "        \n",
       "            <div id=\"1be5ebbb-8a1d-41dc-bf4f-68226253e507\" class=\"plotly-graph-div\" style=\"height:525px; width:100%;\"></div>\n",
       "            <script type=\"text/javascript\">\n",
       "                require([\"plotly\"], function(Plotly) {\n",
       "                    window.PLOTLYENV=window.PLOTLYENV || {};\n",
       "                    \n",
       "                if (document.getElementById(\"1be5ebbb-8a1d-41dc-bf4f-68226253e507\")) {\n",
       "                    Plotly.newPlot(\n",
       "                        '1be5ebbb-8a1d-41dc-bf4f-68226253e507',\n",
       "                        [{\"customdata\": [[\"kita yg gak aplikasi mau email ga buat masih sih\"], [\"layanan ukm keuangan news co digital finansial pengguna menjadi platform\"], [\"you code use first me or get youtu my let\"], [\"aku dana sama belum ini aja kalo sudah karena sekarang\"], [\"min ya mau kok email sampai dm coba yg masih\"], [\"coba nih kita yg sampai kan masih apa gak ga\"], [\"sampai nya saya kenapa coba ada mau tapi ya kok\"], [\"kok hari mau aplikasi kenapa email sampai nya lama sama\"], [\"pinjaman news dana pendanaan co id hingga tahun ukm rp\"], [\"dlvr http it online covid layanan keuangan fintech news digital\"], [\"cek dm min kok ya tidak saya dari kenapa mohon\"], [\"twitter com dlvr ukm pic menjadi covid akan finansial kok\"], [\"covid www from of fintech digital the it online http\"], [\"of the from www it covid fintech funding indonesia in\"], [\"dm kok cek of min dlvr covid www twitter it\"], [\"semua hingga rp bisnis pinjaman oleh ojk dan koinworks cek\"], [\"hingga pendanaan pinjaman dana kenapa investasi di tahun aplikasi ada\"]], \"hovertemplate\": \"x=%{x}<br>y=%{y}<br>words=%{customdata[0]}<extra></extra>\", \"legendgroup\": \"\", \"marker\": {\"color\": \"#636efa\", \"symbol\": \"circle\"}, \"mode\": \"markers\", \"name\": \"\", \"orientation\": \"v\", \"showlegend\": false, \"type\": \"scatter\", \"x\": [-0.16898085176944733, -0.24462904036045074, 1.3635847568511963, -0.2058325856924057, -0.4074753522872925, -0.2677091956138611, -0.22654344141483307, -0.12844371795654297, -0.3100506663322449, -0.10013946890830994, -0.2832947373390198, -0.13779963552951813, 0.2357926368713379, 0.4875698387622833, 0.05617242306470871, 0.276660293340683, 0.06111883744597435], \"xaxis\": \"x\", \"y\": [-0.21773529052734375, 0.4087597131729126, -0.3528558611869812, -0.08380115777254105, -0.35671573877334595, -0.4491453766822815, -0.3555288314819336, -0.11248938739299774, 0.15938450396060944, 0.5205715298652649, 0.015375196002423763, 0.08992213010787964, 0.5160438418388367, 0.35334140062332153, -0.057092562317848206, -0.005433725193142891, -0.07260074466466904], \"yaxis\": \"y\"}],\n",
       "                        {\"legend\": {\"tracegroupgap\": 0}, \"margin\": {\"t\": 60}, \"template\": {\"data\": {\"bar\": [{\"error_x\": {\"color\": \"#2a3f5f\"}, \"error_y\": {\"color\": \"#2a3f5f\"}, \"marker\": {\"line\": {\"color\": \"#E5ECF6\", \"width\": 0.5}}, \"type\": \"bar\"}], \"barpolar\": [{\"marker\": {\"line\": {\"color\": \"#E5ECF6\", \"width\": 0.5}}, \"type\": \"barpolar\"}], \"carpet\": [{\"aaxis\": {\"endlinecolor\": \"#2a3f5f\", \"gridcolor\": \"white\", \"linecolor\": \"white\", \"minorgridcolor\": \"white\", \"startlinecolor\": \"#2a3f5f\"}, \"baxis\": {\"endlinecolor\": \"#2a3f5f\", \"gridcolor\": \"white\", \"linecolor\": \"white\", \"minorgridcolor\": \"white\", \"startlinecolor\": \"#2a3f5f\"}, \"type\": \"carpet\"}], \"choropleth\": [{\"colorbar\": {\"outlinewidth\": 0, \"ticks\": \"\"}, \"type\": \"choropleth\"}], \"contour\": [{\"colorbar\": {\"outlinewidth\": 0, \"ticks\": \"\"}, \"colorscale\": [[0.0, \"#0d0887\"], [0.1111111111111111, \"#46039f\"], [0.2222222222222222, \"#7201a8\"], [0.3333333333333333, \"#9c179e\"], [0.4444444444444444, \"#bd3786\"], [0.5555555555555556, \"#d8576b\"], [0.6666666666666666, \"#ed7953\"], [0.7777777777777778, \"#fb9f3a\"], [0.8888888888888888, \"#fdca26\"], [1.0, \"#f0f921\"]], \"type\": \"contour\"}], \"contourcarpet\": [{\"colorbar\": {\"outlinewidth\": 0, \"ticks\": \"\"}, \"type\": \"contourcarpet\"}], \"heatmap\": [{\"colorbar\": {\"outlinewidth\": 0, \"ticks\": \"\"}, \"colorscale\": [[0.0, \"#0d0887\"], [0.1111111111111111, \"#46039f\"], [0.2222222222222222, \"#7201a8\"], [0.3333333333333333, \"#9c179e\"], [0.4444444444444444, \"#bd3786\"], [0.5555555555555556, \"#d8576b\"], [0.6666666666666666, \"#ed7953\"], [0.7777777777777778, \"#fb9f3a\"], [0.8888888888888888, \"#fdca26\"], [1.0, \"#f0f921\"]], \"type\": \"heatmap\"}], \"heatmapgl\": [{\"colorbar\": {\"outlinewidth\": 0, \"ticks\": \"\"}, \"colorscale\": [[0.0, \"#0d0887\"], [0.1111111111111111, \"#46039f\"], [0.2222222222222222, \"#7201a8\"], [0.3333333333333333, \"#9c179e\"], [0.4444444444444444, \"#bd3786\"], [0.5555555555555556, \"#d8576b\"], [0.6666666666666666, \"#ed7953\"], [0.7777777777777778, \"#fb9f3a\"], [0.8888888888888888, \"#fdca26\"], [1.0, \"#f0f921\"]], \"type\": \"heatmapgl\"}], \"histogram\": [{\"marker\": {\"colorbar\": {\"outlinewidth\": 0, \"ticks\": \"\"}}, \"type\": \"histogram\"}], \"histogram2d\": [{\"colorbar\": {\"outlinewidth\": 0, \"ticks\": \"\"}, \"colorscale\": [[0.0, \"#0d0887\"], [0.1111111111111111, \"#46039f\"], [0.2222222222222222, \"#7201a8\"], [0.3333333333333333, \"#9c179e\"], [0.4444444444444444, \"#bd3786\"], [0.5555555555555556, \"#d8576b\"], [0.6666666666666666, \"#ed7953\"], [0.7777777777777778, \"#fb9f3a\"], [0.8888888888888888, \"#fdca26\"], [1.0, \"#f0f921\"]], \"type\": \"histogram2d\"}], \"histogram2dcontour\": [{\"colorbar\": {\"outlinewidth\": 0, \"ticks\": \"\"}, \"colorscale\": [[0.0, \"#0d0887\"], [0.1111111111111111, \"#46039f\"], [0.2222222222222222, \"#7201a8\"], [0.3333333333333333, \"#9c179e\"], [0.4444444444444444, \"#bd3786\"], [0.5555555555555556, \"#d8576b\"], [0.6666666666666666, \"#ed7953\"], [0.7777777777777778, \"#fb9f3a\"], [0.8888888888888888, \"#fdca26\"], [1.0, \"#f0f921\"]], \"type\": \"histogram2dcontour\"}], \"mesh3d\": [{\"colorbar\": {\"outlinewidth\": 0, \"ticks\": \"\"}, \"type\": \"mesh3d\"}], \"parcoords\": [{\"line\": {\"colorbar\": {\"outlinewidth\": 0, \"ticks\": \"\"}}, \"type\": \"parcoords\"}], \"pie\": [{\"automargin\": true, \"type\": \"pie\"}], \"scatter\": [{\"marker\": {\"colorbar\": {\"outlinewidth\": 0, \"ticks\": \"\"}}, \"type\": \"scatter\"}], \"scatter3d\": [{\"line\": {\"colorbar\": {\"outlinewidth\": 0, \"ticks\": \"\"}}, \"marker\": {\"colorbar\": {\"outlinewidth\": 0, \"ticks\": \"\"}}, \"type\": \"scatter3d\"}], \"scattercarpet\": [{\"marker\": {\"colorbar\": {\"outlinewidth\": 0, \"ticks\": \"\"}}, \"type\": \"scattercarpet\"}], \"scattergeo\": [{\"marker\": {\"colorbar\": {\"outlinewidth\": 0, \"ticks\": \"\"}}, \"type\": \"scattergeo\"}], \"scattergl\": [{\"marker\": {\"colorbar\": {\"outlinewidth\": 0, \"ticks\": \"\"}}, \"type\": \"scattergl\"}], \"scattermapbox\": [{\"marker\": {\"colorbar\": {\"outlinewidth\": 0, \"ticks\": \"\"}}, \"type\": \"scattermapbox\"}], \"scatterpolar\": [{\"marker\": {\"colorbar\": {\"outlinewidth\": 0, \"ticks\": \"\"}}, \"type\": \"scatterpolar\"}], \"scatterpolargl\": [{\"marker\": {\"colorbar\": {\"outlinewidth\": 0, \"ticks\": \"\"}}, \"type\": \"scatterpolargl\"}], \"scatterternary\": [{\"marker\": {\"colorbar\": {\"outlinewidth\": 0, \"ticks\": \"\"}}, \"type\": \"scatterternary\"}], \"surface\": [{\"colorbar\": {\"outlinewidth\": 0, \"ticks\": \"\"}, \"colorscale\": [[0.0, \"#0d0887\"], [0.1111111111111111, \"#46039f\"], [0.2222222222222222, \"#7201a8\"], [0.3333333333333333, \"#9c179e\"], [0.4444444444444444, \"#bd3786\"], [0.5555555555555556, \"#d8576b\"], [0.6666666666666666, \"#ed7953\"], [0.7777777777777778, \"#fb9f3a\"], [0.8888888888888888, \"#fdca26\"], [1.0, \"#f0f921\"]], \"type\": \"surface\"}], \"table\": [{\"cells\": {\"fill\": {\"color\": \"#EBF0F8\"}, \"line\": {\"color\": \"white\"}}, \"header\": {\"fill\": {\"color\": \"#C8D4E3\"}, \"line\": {\"color\": \"white\"}}, \"type\": \"table\"}]}, \"layout\": {\"annotationdefaults\": {\"arrowcolor\": \"#2a3f5f\", \"arrowhead\": 0, \"arrowwidth\": 1}, \"coloraxis\": {\"colorbar\": {\"outlinewidth\": 0, \"ticks\": \"\"}}, \"colorscale\": {\"diverging\": [[0, \"#8e0152\"], [0.1, \"#c51b7d\"], [0.2, \"#de77ae\"], [0.3, \"#f1b6da\"], [0.4, \"#fde0ef\"], [0.5, \"#f7f7f7\"], [0.6, \"#e6f5d0\"], [0.7, \"#b8e186\"], [0.8, \"#7fbc41\"], [0.9, \"#4d9221\"], [1, \"#276419\"]], \"sequential\": [[0.0, \"#0d0887\"], [0.1111111111111111, \"#46039f\"], [0.2222222222222222, \"#7201a8\"], [0.3333333333333333, \"#9c179e\"], [0.4444444444444444, \"#bd3786\"], [0.5555555555555556, \"#d8576b\"], [0.6666666666666666, \"#ed7953\"], [0.7777777777777778, \"#fb9f3a\"], [0.8888888888888888, \"#fdca26\"], [1.0, \"#f0f921\"]], \"sequentialminus\": [[0.0, \"#0d0887\"], [0.1111111111111111, \"#46039f\"], [0.2222222222222222, \"#7201a8\"], [0.3333333333333333, \"#9c179e\"], [0.4444444444444444, \"#bd3786\"], [0.5555555555555556, \"#d8576b\"], [0.6666666666666666, \"#ed7953\"], [0.7777777777777778, \"#fb9f3a\"], [0.8888888888888888, \"#fdca26\"], [1.0, \"#f0f921\"]]}, \"colorway\": [\"#636efa\", \"#EF553B\", \"#00cc96\", \"#ab63fa\", \"#FFA15A\", \"#19d3f3\", \"#FF6692\", \"#B6E880\", \"#FF97FF\", \"#FECB52\"], \"font\": {\"color\": \"#2a3f5f\"}, \"geo\": {\"bgcolor\": \"white\", \"lakecolor\": \"white\", \"landcolor\": \"#E5ECF6\", \"showlakes\": true, \"showland\": true, \"subunitcolor\": \"white\"}, \"hoverlabel\": {\"align\": \"left\"}, \"hovermode\": \"closest\", \"mapbox\": {\"style\": \"light\"}, \"paper_bgcolor\": \"white\", \"plot_bgcolor\": \"#E5ECF6\", \"polar\": {\"angularaxis\": {\"gridcolor\": \"white\", \"linecolor\": \"white\", \"ticks\": \"\"}, \"bgcolor\": \"#E5ECF6\", \"radialaxis\": {\"gridcolor\": \"white\", \"linecolor\": \"white\", \"ticks\": \"\"}}, \"scene\": {\"xaxis\": {\"backgroundcolor\": \"#E5ECF6\", \"gridcolor\": \"white\", \"gridwidth\": 2, \"linecolor\": \"white\", \"showbackground\": true, \"ticks\": \"\", \"zerolinecolor\": \"white\"}, \"yaxis\": {\"backgroundcolor\": \"#E5ECF6\", \"gridcolor\": \"white\", \"gridwidth\": 2, \"linecolor\": \"white\", \"showbackground\": true, \"ticks\": \"\", \"zerolinecolor\": \"white\"}, \"zaxis\": {\"backgroundcolor\": \"#E5ECF6\", \"gridcolor\": \"white\", \"gridwidth\": 2, \"linecolor\": \"white\", \"showbackground\": true, \"ticks\": \"\", \"zerolinecolor\": \"white\"}}, \"shapedefaults\": {\"line\": {\"color\": \"#2a3f5f\"}}, \"ternary\": {\"aaxis\": {\"gridcolor\": \"white\", \"linecolor\": \"white\", \"ticks\": \"\"}, \"baxis\": {\"gridcolor\": \"white\", \"linecolor\": \"white\", \"ticks\": \"\"}, \"bgcolor\": \"#E5ECF6\", \"caxis\": {\"gridcolor\": \"white\", \"linecolor\": \"white\", \"ticks\": \"\"}}, \"title\": {\"x\": 0.05}, \"xaxis\": {\"automargin\": true, \"gridcolor\": \"white\", \"linecolor\": \"white\", \"ticks\": \"\", \"title\": {\"standoff\": 15}, \"zerolinecolor\": \"white\", \"zerolinewidth\": 2}, \"yaxis\": {\"automargin\": true, \"gridcolor\": \"white\", \"linecolor\": \"white\", \"ticks\": \"\", \"title\": {\"standoff\": 15}, \"zerolinecolor\": \"white\", \"zerolinewidth\": 2}}}, \"xaxis\": {\"anchor\": \"y\", \"domain\": [0.0, 1.0], \"title\": {\"text\": \"x\"}}, \"yaxis\": {\"anchor\": \"x\", \"domain\": [0.0, 1.0], \"title\": {\"text\": \"y\"}}},\n",
       "                        {\"responsive\": true}\n",
       "                    ).then(function(){\n",
       "                            \n",
       "var gd = document.getElementById('1be5ebbb-8a1d-41dc-bf4f-68226253e507');\n",
       "var x = new MutationObserver(function (mutations, observer) {{\n",
       "        var display = window.getComputedStyle(gd).display;\n",
       "        if (!display || display === 'none') {{\n",
       "            console.log([gd, 'removed!']);\n",
       "            Plotly.purge(gd);\n",
       "            observer.disconnect();\n",
       "        }}\n",
       "}});\n",
       "\n",
       "// Listen for the removal of the full notebook cells\n",
       "var notebookContainer = gd.closest('#notebook-container');\n",
       "if (notebookContainer) {{\n",
       "    x.observe(notebookContainer, {childList: true});\n",
       "}}\n",
       "\n",
       "// Listen for the clearing of the current output cell\n",
       "var outputEl = gd.closest('.output');\n",
       "if (outputEl) {{\n",
       "    x.observe(outputEl, {childList: true});\n",
       "}}\n",
       "\n",
       "                        })\n",
       "                };\n",
       "                });\n",
       "            </script>\n",
       "        </div>"
      ]
     },
     "metadata": {},
     "output_type": "display_data"
    }
   ],
   "source": [
    "px.scatter(df_pca, x='x', y='y', hover_data =['words'])"
   ]
  },
  {
   "cell_type": "code",
   "execution_count": 35,
   "metadata": {},
   "outputs": [
    {
     "data": {
      "text/plain": [
       "1990"
      ]
     },
     "execution_count": 35,
     "metadata": {},
     "output_type": "execute_result"
    }
   ],
   "source": [
    "len(model.model.docvecs)"
   ]
  },
  {
   "cell_type": "code",
   "execution_count": 37,
   "metadata": {},
   "outputs": [],
   "source": [
    "pca = PCA(n_components=2)"
   ]
  },
  {
   "cell_type": "code",
   "execution_count": 46,
   "metadata": {},
   "outputs": [
    {
     "ename": "KeyError",
     "evalue": "\"tag '1990' not seen in training corpus/invalid\"",
     "output_type": "error",
     "traceback": [
      "\u001b[0;31m---------------------------------------------------------------------------\u001b[0m",
      "\u001b[0;31mKeyError\u001b[0m                                  Traceback (most recent call last)",
      "\u001b[0;32m<ipython-input-46-55e97966c00e>\u001b[0m in \u001b[0;36m<module>\u001b[0;34m\u001b[0m\n\u001b[0;32m----> 1\u001b[0;31m \u001b[0mdocvecs\u001b[0m \u001b[0;34m=\u001b[0m \u001b[0mlist\u001b[0m\u001b[0;34m(\u001b[0m\u001b[0mmodel\u001b[0m\u001b[0;34m.\u001b[0m\u001b[0mmodel\u001b[0m\u001b[0;34m.\u001b[0m\u001b[0mdocvecs\u001b[0m\u001b[0;34m)\u001b[0m\u001b[0;34m\u001b[0m\u001b[0;34m\u001b[0m\u001b[0m\n\u001b[0m",
      "\u001b[0;32m~/miniconda/envs/ml/lib/python3.7/site-packages/gensim/models/keyedvectors.py\u001b[0m in \u001b[0;36m__getitem__\u001b[0;34m(self, index)\u001b[0m\n\u001b[1;32m   1611\u001b[0m                 \u001b[0;32mreturn\u001b[0m \u001b[0mself\u001b[0m\u001b[0;34m.\u001b[0m\u001b[0mvectors_docs\u001b[0m\u001b[0;34m[\u001b[0m\u001b[0mself\u001b[0m\u001b[0;34m.\u001b[0m\u001b[0m_int_index\u001b[0m\u001b[0;34m(\u001b[0m\u001b[0mindex\u001b[0m\u001b[0;34m,\u001b[0m \u001b[0mself\u001b[0m\u001b[0;34m.\u001b[0m\u001b[0mdoctags\u001b[0m\u001b[0;34m,\u001b[0m \u001b[0mself\u001b[0m\u001b[0;34m.\u001b[0m\u001b[0mmax_rawint\u001b[0m\u001b[0;34m)\u001b[0m\u001b[0;34m]\u001b[0m\u001b[0;34m\u001b[0m\u001b[0;34m\u001b[0m\u001b[0m\n\u001b[1;32m   1612\u001b[0m             \u001b[0;32mreturn\u001b[0m \u001b[0mvstack\u001b[0m\u001b[0;34m(\u001b[0m\u001b[0;34m[\u001b[0m\u001b[0mself\u001b[0m\u001b[0;34m[\u001b[0m\u001b[0mi\u001b[0m\u001b[0;34m]\u001b[0m \u001b[0;32mfor\u001b[0m \u001b[0mi\u001b[0m \u001b[0;32min\u001b[0m \u001b[0mindex\u001b[0m\u001b[0;34m]\u001b[0m\u001b[0;34m)\u001b[0m\u001b[0;34m\u001b[0m\u001b[0;34m\u001b[0m\u001b[0m\n\u001b[0;32m-> 1613\u001b[0;31m         \u001b[0;32mraise\u001b[0m \u001b[0mKeyError\u001b[0m\u001b[0;34m(\u001b[0m\u001b[0;34m\"tag '%s' not seen in training corpus/invalid\"\u001b[0m \u001b[0;34m%\u001b[0m \u001b[0mindex\u001b[0m\u001b[0;34m)\u001b[0m\u001b[0;34m\u001b[0m\u001b[0;34m\u001b[0m\u001b[0m\n\u001b[0m\u001b[1;32m   1614\u001b[0m \u001b[0;34m\u001b[0m\u001b[0m\n\u001b[1;32m   1615\u001b[0m     \u001b[0;32mdef\u001b[0m \u001b[0m__contains__\u001b[0m\u001b[0;34m(\u001b[0m\u001b[0mself\u001b[0m\u001b[0;34m,\u001b[0m \u001b[0mindex\u001b[0m\u001b[0;34m)\u001b[0m\u001b[0;34m:\u001b[0m\u001b[0;34m\u001b[0m\u001b[0;34m\u001b[0m\u001b[0m\n",
      "\u001b[0;31mKeyError\u001b[0m: \"tag '1990' not seen in training corpus/invalid\""
     ]
    }
   ],
   "source": [
    "docvecs = list(model.model.docvecs)"
   ]
  },
  {
   "cell_type": "code",
   "execution_count": 16,
   "metadata": {},
   "outputs": [
    {
     "output_type": "execute_result",
     "data": {
      "text/plain": "17"
     },
     "metadata": {},
     "execution_count": 16
    }
   ],
   "source": [
    "model.get_num_topics()"
   ]
  },
  {
   "cell_type": "code",
   "execution_count": 24,
   "metadata": {
    "tags": []
   },
   "outputs": [
    {
     "output_type": "stream",
     "name": "stdout",
     "text": "(array(['Pagi2 iseng buka aplikasi @koinworks kaget portfolio gw kok berkurang pdhl ga ngelakuin apa2. Fix it pls. Gw jd kurang nyaman sebulanan terakhir dengan update2 yg bikin outstanding portfolio yg naek turun ga jelas.',\n       'Masih belum bisa di akses'], dtype=object), array([0.9687837 , 0.96314836], dtype=float32), array([1406, 1627]))\n(array(['Catat Kinerja Positif, KoinWorks Dorong Pertumbuhan Ribuan UKM Digital sepanjang Semester Pertama\\xa02020  http://bewarajabar.com/catat-kinerja-positif-koinworks-dorong-pertumbuhan-ribuan-ukm-digital-sepanjang-semester-pertama-2020/\\xa0…',\n       'Dan hadir dengan 3 layanan keuangan, seperti KoinP2P, KoinRobo, KoinBisnis. Malahan terus melakukan inovasi dengan melakukan modernisasi tampilan yang disesuaikan dengan target pasar saat ini milenial dan menghadirkan ragam layanan keuangan lengkap utk memenuhi kebutuhan pengguna'],\n      dtype=object), array([0.9754788, 0.9649924], dtype=float32), array([ 148, 1232]))\n(array(['Hi, let me introduce you to KoinWorks, Indonesia First Super Financial App. Get return up to 18% p.a*  in one single app. \\n\\n Download and *Use my code 01646 to get 350,000* KOIN or click  https://koinworks.onelink.me/LgVI/fe54b04c\\xa0\\nKoinWorks is *registered and supervised by OJK*',\n       'Hi, let me introduce you to *KoinWorks*, Indonesia First Super Financial App. Get *return up to 18% p.a*\\n\\n https://youtu.be/D1N34eRVkqM\\xa0\\n\\nDownload and *Use my code  09679 to get 350,000* KOIN or click  \\n\\nKoinWorks is *registered & supervised by OJK* Indonesia Financial Service Authority'],\n      dtype=object), array([0.99717015, 0.9940795 ], dtype=float32), array([958, 376]))\n(array(['Kenapa harus KoinWorks? Karena sudah terdaftar di OJK, paling penting nih. Jadi nggak diragukan lagi legalitasnya😎',\n       'mau tau dong pengalaman kalian kalo ada yang udah pernah pakai koinworks.. Terima kasih...'],\n      dtype=object), array([0.9591146 , 0.94848895], dtype=float32), array([1287,   13]))\n(array(['@koinworks help. Sudah proses login di step tunggu OTP.\\nTapi tidak ada OTP yg diterima..',\n       'Sudah difollow up melalui call center dan dikirimkan melalui e-mail. Mohon diakselerasi ya. Tks'],\n      dtype=object), array([0.9810573 , 0.96520346], dtype=float32), array([1699, 1397]))\n(array(['aku kayaknya pernah apply juga deh Asetku tapi akhirnya milih KoinWorks 🤣\\n\\nApplynya gampang, tapi itu bingung navigate UI/UXnya. Info assets yang kita manage: kapan jatuh temponya, ini pendanaan telat berapa hari, itu ngga ada. Belum suka error-error.',\n       'Ya kalau untuk pribadi juga ada baiknya. Belajar demi kebaikan ke depan agar sukses. Kalau udah sukses, bersama pasangan kita mampu menata hidup ke depan. Mudah-mudahan terobosan KoinWorks mampu membantu kita ke depan. Kalau bukan sekarang kapan lagi kan ?'],\n      dtype=object), array([0.9623666, 0.956627 ], dtype=float32), array([ 484, 1179]))\n(array(['@koinworks proses pencarian dana, biasanya membutuhkan waktu berapa lama? Saya tarik dana dr tgl 1 Nov, sampe sekarang blm ada perkembangan.',\n       'apapun masalahnya,  promosi itu penting 🐍'], dtype=object), array([0.97852415, 0.97455513], dtype=float32), array([1849, 1025]))\n(array(['yang invest di koinworks aman ga ya?',\n       'investree atau koinworks ya?'], dtype=object), array([0.9648284 , 0.95880455], dtype=float32), array([ 159, 1623]))\n(array(['KoinWorks telah salurkan pinjaman Rp 2,13 triliun hingga April  http://keuangan.kontan.co.id/news/koinworks-telah-salurkan-pinjaman-rp-213-triliun-hingga-april\\xa0… #Fintech',\n       'Kuartal I 2020, KoinWorks salurkan pinjaman Rp 307,14 miliar  http://keuangan.kontan.co.id/news/kuartal-i-2020-koinworks-salurkan-pinjaman-rp-30714-miliar\\xa0… #Fintech'],\n      dtype=object), array([0.97964877, 0.97306645], dtype=float32), array([291, 406]))\n(array(['KoinWorks menjadi mitra distribusi fintech untuk penjualan surat utang dan obligasi yang dijamin pemerintah.  http://dlvr.it/RfJ224\\xa0',\n       'Catat Kinerja Positif, KoinWorks Dorong Pertumbuhan Ribuan UKM Digital sepanjang Semester Pertama 2020  http://dlvr.it/RbPflx\\xa0 #Direct #inklusikeuangan #KoinWorks #layananfinansial'],\n      dtype=object), array([0.9709851, 0.9636848], dtype=float32), array([1922,  139]))\n(array(['@koinworks halo min, bantu cek dm ya, thankyou',\n       'Tolong cek DM ya min @koinworks \\nThanks'], dtype=object), array([0.9938994, 0.9925991], dtype=float32), array([1767,  113]))\n(array(['@koinworks ngapa begini ya  pic.twitter.com/LjhdjHPmHI',\n       'Terima kasih @koinworks  pic.twitter.com/5VOkhuVbiz'],\n      dtype=object), array([0.99053335, 0.98734283], dtype=float32), array([1488,  329]))\n(array(['KoinWorks @koinworks , Prudential Indonesia @prudentialplc support the fight against #COVID19  https://ibsintelligence.com/ibs-journal/ibs-news/koinworks-prudential-indonesia-support-the-fight-against-covid-19/\\xa0… #Indonesia #Jakarta',\n       'Fintech funding in Indonesia for the past month:\\n\\n- Komunal | Seed | Undisclosed\\n- Kredivo | Series C | 90m\\n- Amartha | Series B | Undisclosed\\n- Pintek | Pre-Series A | Undisclosed\\n- Koinworks | Series B | 1.4m'],\n      dtype=object), array([0.98364985, 0.94524395], dtype=float32), array([ 451, 1752]))\n(array(['nvm, received the OTP via WA. Thanks.',\n       'Benedicto Haryono, CEO of KoinWorks: \"The initial idea of the new evolution was to design a multifunction app that serves purposes of lending, borrowing and investment alternatives.\"  http://bit.ly/2tMzfb8\\xa0'],\n      dtype=object), array([0.9883379, 0.9857928], dtype=float32), array([1664, 1424]))\n(array(['Sty safe kak , dukung koinworks',\n       'Amartha, investree, koinworks :(('], dtype=object), array([0.99524313, 0.9949013 ], dtype=float32), array([754, 908]))\n(array(['Hi, Cek Penawaran KoinGold dari KoinWorks Super Financial Apps! Kamu bisa menemukan semua kebutuhanmu disini, jual beli emas digital dengan minimal pembelian Rp.1000 dan tanpa biaya apapun.   https://koinworks.onelink.me/LgVI/koingold\\xa0\\n\\n*KoinWorks terdaftar dan diawasi oleh OJK*',\n       'Hi, Cek Penawaran KoinGold dari KoinWorks Super Financial Apps! Kamu bisa menemukan semua kebutuhanmu disini, jual beli emas digital dengan minimal pembelian Rp.1000 dan tanpa biaya apapun. Menarik bukan?  https://koinworks.onelink.me/LgVI/koingold\\xa0\\n\\n*KoinWorks terdaftar dan diawasi oleh OJK*'],\n      dtype=object), array([0.9885877 , 0.98562324], dtype=float32), array([47, 74]))\n(array(['KoinWorks Gandeng Mandiri Manajemen Investasi untuk Kelola Dana Pemberi Pinjaman  http://money.kompas.com/read/2020/06/11/081100426/koinworks-gandeng-mandiri-manajemen-investasi-untu\\xa0…',\n       'KoinWorks Bidik Penyaluran Dana Rp 5,6 Triliun  https://money.kompas.com/read/2019/11/07/184200126/koinworks-bidik-penyaluran-dana-rp-5-6-triliun\\xa0…'],\n      dtype=object), array([0.9251103 , 0.88662255], dtype=float32), array([ 235, 1829]))\n"
    }
   ],
   "source": [
    "for i in range(model.get_num_topics()): \n",
    "    print(model.search_documents_by_topic(i, 2))"
   ]
  },
  {
   "cell_type": "code",
   "execution_count": null,
   "metadata": {},
   "outputs": [],
   "source": []
  }
 ],
 "metadata": {
  "kernelspec": {
   "display_name": "Python 3",
   "language": "python",
   "name": "python3"
  },
  "language_info": {
   "codemirror_mode": {
    "name": "ipython",
    "version": 3
   },
   "file_extension": ".py",
   "mimetype": "text/x-python",
   "name": "python",
   "nbconvert_exporter": "python",
   "pygments_lexer": "ipython3",
   "version": "3.8.3-final"
  }
 },
 "nbformat": 4,
 "nbformat_minor": 4
}